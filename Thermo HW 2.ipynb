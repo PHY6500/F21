{
 "cells": [
  {
   "cell_type": "markdown",
   "id": "024cc406",
   "metadata": {},
   "source": [
    "## HW 2"
   ]
  },
  {
   "cell_type": "markdown",
   "id": "e2b9833a",
   "metadata": {},
   "source": [
    "## Q1"
   ]
  },
  {
   "cell_type": "code",
   "execution_count": 2,
   "id": "53595077",
   "metadata": {},
   "outputs": [
    {
     "name": "stdout",
     "output_type": "stream",
     "text": [
      "600000 C\n",
      "3.745318352059925e+24 electrons\n",
      "6.21924822747383 mol e-\n"
     ]
    }
   ],
   "source": [
    "I=10000 #this is the given current in Amps\n",
    "A=6.02214e23 #this is avogadro's number in mol^-1\n",
    "\n",
    "#I=q/t is measured in C/s\n",
    "\n",
    "t=60 #because it's asked in minutes\n",
    "q=t*I #i rearanged the formula to solve for q\n",
    "print(q,\"C\")\n",
    "\n",
    "q_e=1.602e-19 #this is the charge of a single electron\n",
    "e=q/q_e #this formula solves for the number of electrons\n",
    "print(e,\"electrons\")\n",
    "\n",
    "M=e/A # this formula converts # of e- into mol of e-\n",
    "print(M,\"mol e-\")"
   ]
  },
  {
   "cell_type": "markdown",
   "id": "aa0f81c8",
   "metadata": {},
   "source": [
    "## Q2"
   ]
  },
  {
   "cell_type": "markdown",
   "id": "874a6974",
   "metadata": {},
   "source": [
    "#pv=n*k_b*T\n",
    "k_b=1.38e-23 # boltzmann constant measured in J/K\n",
    "\n",
    "prove V=aT_f+B from v/t=v2/t2\n",
    "\n",
    "\n",
    "C=K-273.15\n",
    "T_F= (9/5)*C + 32\n",
    "T_F=(9/5)(K-273.15)+32\n",
    "\n",
    "v/t=v2/t2\n",
    "\n",
    "v=T_F=(9/5)(K-273.15)+32\n"
   ]
  },
  {
   "cell_type": "code",
   "execution_count": null,
   "id": "9414aa38",
   "metadata": {},
   "outputs": [],
   "source": []
  },
  {
   "cell_type": "markdown",
   "id": "af677003",
   "metadata": {},
   "source": [
    "P1*V1 = P2*V2 \n",
    "\n",
    "Boyle's law is not dependent on temperature in any way so the temp scale doesn't matter\n"
   ]
  },
  {
   "cell_type": "markdown",
   "id": "55151f5e",
   "metadata": {},
   "source": [
    "## Q3"
   ]
  },
  {
   "cell_type": "code",
   "execution_count": 34,
   "id": "e0a48a04",
   "metadata": {},
   "outputs": [
    {
     "name": "stdout",
     "output_type": "stream",
     "text": [
      "n= 1.2034251457119068e+25 molecules\n",
      "T= 374.02301028528404 K\n"
     ]
    }
   ],
   "source": [
    "m=0.360 #in kg\n",
    "P=1.01e5 #im Pa\n",
    "V=0.615 #in m^3\n",
    "\n",
    "k_b=1.38e-23 #in J/K\n",
    "\n",
    "M=m*1000 # converting kg to g\n",
    "\n",
    "M_n=18.015 # Molar mass of water in g/mol\n",
    "\n",
    "A=6.02214e23\n",
    "\n",
    "n=(M*A)/M_n \n",
    "print(\"n=\",n,\"molecules\")\n",
    "#PV=nk_bT\n",
    "T=(P*V)/(n*k_b)\n",
    "print(\"T=\",T,\"K\")"
   ]
  },
  {
   "cell_type": "markdown",
   "id": "4014f27a",
   "metadata": {},
   "source": [
    "this is unreasonable because the temperature is close to the boiling point that it might still be partially a liquid. so the ideal gas law does not fully compensate for the possible differnt of matter."
   ]
  },
  {
   "cell_type": "markdown",
   "id": "f0b5b907",
   "metadata": {},
   "source": [
    "## Q4"
   ]
  },
  {
   "cell_type": "code",
   "execution_count": 47,
   "id": "43d53bd1",
   "metadata": {},
   "outputs": [
    {
     "name": "stdout",
     "output_type": "stream",
     "text": [
      "A = 0.00025 m^2\n",
      "Volume 1 = 3.4000000000000005e-06 m^3 of H2O\n",
      "Mass of H2O 0.0034000000000000007 kg\n",
      "Force of H2O 0.03335400000000001 N\n",
      "Gauge Pressure = 133.41600000000003 Pa\n",
      "101433.416 Pa\n",
      "Volume of Dispensed H2O = 3.404477930898322e-06 m^3\n"
     ]
    }
   ],
   "source": [
    "L=0.025 #in m\n",
    "W=0.010 #in m\n",
    "h=0.020 #in m\n",
    "L2=h-0.003 #in m\n",
    "#V2=?\n",
    "Pamb=1.00 #in Pa\n",
    "D=1000 #density of water in kg/m^3\n",
    "g=9.81 #gravity measured in m/s^2\n",
    "\n",
    "P1=Pamb*1.013e5 #in Pa\n",
    "\n",
    "A=L*W\n",
    "print(\"A =\",A,'m^2')\n",
    "\n",
    "V1=L2*W*h #this is the volume of water in the dispencer\n",
    "print(\"Volume 1 =\",V1,\"m^3 of H2O\")\n",
    "\n",
    "M=V1*D #mass of the water in the dispenser\n",
    "print(\"Mass of H2O\",M,\"kg\")\n",
    "\n",
    "F=M*g #force of Water in the Dispenser\n",
    "print(\"Force of H2O\",F,\"N\")\n",
    "\n",
    "PG1=F/A  #im doing this so that is can find the initial gauge pressure that will let me solve for total pressure of the water in the dispenser\n",
    "print(\"Gauge Pressure =\",PG1,\"Pa\")\n",
    "PG2=0\n",
    "P_abs=P1+PG1\n",
    "print(P_abs,\"Pa\")\n",
    "P_abs2=P1+PG2\n",
    "\n",
    "#P1V1=P2V2\n",
    "\n",
    "V2=(P_abs*V1)/(P_abs2)\n",
    "print(\"Volume of Dispensed H2O =\",V2,\"m^3\")\n",
    "\n",
    "#im not fully sure how there is more water leaving the container than initially there. it might be rounding error im not fully sure"
   ]
  },
  {
   "cell_type": "markdown",
   "id": "8fd2e531",
   "metadata": {},
   "source": [
    "## Q5"
   ]
  },
  {
   "cell_type": "code",
   "execution_count": 40,
   "id": "621e0d13",
   "metadata": {},
   "outputs": [
    {
     "name": "stdout",
     "output_type": "stream",
     "text": [
      "Total Pressure = 101300.0 Pa\n",
      "0.46396841066140176 % CO2 in lungs\n",
      "0.13396841066140175 % difference\n"
     ]
    }
   ],
   "source": [
    "P1=470\n",
    "Pt=1.00\n",
    "Ptot=Pt*1.013e5\n",
    "print(\"Total Pressure =\",Ptot,\"Pa\")\n",
    "Ratio_Atm=0.33\n",
    "Ratio=(P1/Ptot)*100\n",
    "print(Ratio,\"% CO2 in lungs\")\n",
    "\n",
    "Ratio3=Ratio-Ratio_Atm\n",
    "print(Ratio3,\"% difference\")\n"
   ]
  },
  {
   "cell_type": "markdown",
   "id": "08e2ef7a",
   "metadata": {},
   "source": [
    "The ratios of CO2 in the atm and lungs is roughly equal and only off by about 0.13%"
   ]
  },
  {
   "cell_type": "markdown",
   "id": "9df5a5d6",
   "metadata": {},
   "source": [
    "## Q6"
   ]
  },
  {
   "cell_type": "code",
   "execution_count": 41,
   "id": "82291c86",
   "metadata": {},
   "outputs": [
    {
     "name": "stdout",
     "output_type": "stream",
     "text": [
      "Total Pressure = 202600.0 pa\n",
      "DV = 0.002 m^3\n",
      "work = 405.2 J\n"
     ]
    }
   ],
   "source": [
    "P1=2.00\n",
    "#base=const\n",
    "#Width=const\n",
    "V1=3.00\n",
    "V2=5.00\n",
    "Ptot=P1*1.013e5\n",
    "print(\"Total Pressure =\",Ptot,\"pa\")\n",
    "\n",
    "DV=(V2-V1)/1000 #This gets me the delta value and also converts it to m^3\n",
    "print(\"DV =\",DV,\"m^3\")\n",
    "#im not sure how to do the integral in jupiter notebook but is easy to evaluate\n",
    "\n",
    "#W=integral((P)dV) for V1-V2\n",
    "\n",
    "#W=Ptot*V between V1 and V2\n",
    "#W=(Ptot*V2)-(Ptot*V1)\n",
    "W=Ptot*DV\n",
    "print(\"work =\",W,\"J\")"
   ]
  },
  {
   "cell_type": "markdown",
   "id": "bd833867",
   "metadata": {},
   "source": [
    "## Q7"
   ]
  },
  {
   "cell_type": "code",
   "execution_count": 37,
   "id": "6608a4dd",
   "metadata": {},
   "outputs": [
    {
     "name": "stdout",
     "output_type": "stream",
     "text": [
      "energy = 6.2099999999999996e-21 J\n",
      "energy = 0.03876404494382022 eV\n"
     ]
    }
   ],
   "source": [
    "T=300 #given temp in K\n",
    "q_e=1.602e-19 #charge of an electron in C\n",
    "k_b=1.38e-23 # boltzmann constant measured in J/K\n",
    "\n",
    "E=3/2*k_b*T\n",
    "print(\"energy =\",E,\"J\")\n",
    "EV=E/q_e\n",
    "print(\"energy =\",EV,\"eV\")"
   ]
  },
  {
   "cell_type": "markdown",
   "id": "947e4f95",
   "metadata": {},
   "source": [
    "## Q8"
   ]
  },
  {
   "cell_type": "markdown",
   "id": "9b62b4d3",
   "metadata": {},
   "source": [
    "In free expansion for ideal gases the p=0 so work must be 0.\n",
    "\n",
    "The internal energy of the gas also stays the same during this process"
   ]
  },
  {
   "cell_type": "markdown",
   "id": "b475d6fc",
   "metadata": {},
   "source": [
    "## Q9"
   ]
  },
  {
   "cell_type": "markdown",
   "id": "46b213df",
   "metadata": {},
   "source": [
    "P1V1=P1V1 \n",
    "\n",
    "P1=P\n",
    "V1=V\n",
    "V2=2V\n",
    "\n",
    "P2=P*V/2V\n",
    "P2=P/2\n",
    "\n",
    "so the new pressure is half of the initial pressure when the voulume is doubled"
   ]
  },
  {
   "cell_type": "code",
   "execution_count": null,
   "id": "05d5bb96",
   "metadata": {},
   "outputs": [],
   "source": []
  }
 ],
 "metadata": {
  "kernelspec": {
   "display_name": "Python 3",
   "language": "python",
   "name": "python3"
  },
  "language_info": {
   "codemirror_mode": {
    "name": "ipython",
    "version": 3
   },
   "file_extension": ".py",
   "mimetype": "text/x-python",
   "name": "python",
   "nbconvert_exporter": "python",
   "pygments_lexer": "ipython3",
   "version": "3.8.5"
  }
 },
 "nbformat": 4,
 "nbformat_minor": 5
}
