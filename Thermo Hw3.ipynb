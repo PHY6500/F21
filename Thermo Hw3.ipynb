{
 "cells": [
  {
   "cell_type": "markdown",
   "id": "2945e167",
   "metadata": {},
   "source": [
    "## HW 3"
   ]
  },
  {
   "cell_type": "code",
   "execution_count": 23,
   "id": "22fd40ce",
   "metadata": {},
   "outputs": [],
   "source": [
    "import numpy as np\n",
    "import math"
   ]
  },
  {
   "cell_type": "code",
   "execution_count": 3,
   "id": "883bb7d2",
   "metadata": {},
   "outputs": [],
   "source": [
    "#table of constants\n",
    "Kb=1.38e-23\n",
    "NA=6.02e23\n",
    "R=8.31\n",
    "\n",
    "#conversion factors\n",
    "Pa=1.013e5\n",
    "Tk=273.15"
   ]
  },
  {
   "cell_type": "markdown",
   "id": "78bf5852",
   "metadata": {},
   "source": [
    "## Q1"
   ]
  },
  {
   "cell_type": "code",
   "execution_count": null,
   "id": "09b67838",
   "metadata": {},
   "outputs": [],
   "source": []
  },
  {
   "cell_type": "markdown",
   "id": "5cb74bdf",
   "metadata": {},
   "source": [
    "## Q2"
   ]
  },
  {
   "cell_type": "code",
   "execution_count": 5,
   "id": "d7598d14",
   "metadata": {},
   "outputs": [
    {
     "name": "stdout",
     "output_type": "stream",
     "text": [
      "Vi = 0.007466998815399803 m^3\n",
      "DV = 0.014933997630799606 m^3\n",
      "Eint = 3404.8147499999995 J\n",
      "Q = 1892.0007899999994 J\n"
     ]
    }
   ],
   "source": [
    "#Vf=3Vi\n",
    "Tc=0\n",
    "Patm=1.00\n",
    "n=1\n",
    "\n",
    "#convert Temp and pressure into SI units so that i can plug them into the ideal gas law(igl)\n",
    "T=Tc+Tk\n",
    "P=Patm*Pa\n",
    "\n",
    "#use the igl to find the change in volume. this will let me me find the work done by the expansion and thus the heat tranfered\n",
    "#PV=n*Kb*NA*T\n",
    "\n",
    "#V=(n*Kb*NA*T)/P\n",
    "\n",
    "#plug and chug\n",
    "\n",
    "#3Vi=(n*Kb*NA*T)/P\n",
    "\n",
    "Vi=(n*Kb*NA*T)/(3*P)\n",
    "\n",
    "print('Vi =',Vi,'m^3')\n",
    "\n",
    "#DV=Vf-Vi\n",
    "#DV=3Vi-Vi\n",
    "DV=2*Vi\n",
    "print('DV =',DV,'m^3')\n",
    "\n",
    "#For isobaric expansion W=P*DV. This will let me solve for Q in Eint=W+Q\n",
    "W=P*DV\n",
    "print\n",
    "Eint=(3/2)*n*R*T\n",
    "print('Eint =',Eint,'J')\n",
    "\n",
    "#Eint=W+Q\n",
    "Q=Eint-W\n",
    "print('Q =',Q,'J')"
   ]
  },
  {
   "cell_type": "markdown",
   "id": "7c8aebcb",
   "metadata": {},
   "source": [
    "## Q3"
   ]
  },
  {
   "cell_type": "code",
   "execution_count": 8,
   "id": "b150e26e",
   "metadata": {},
   "outputs": [
    {
     "name": "stdout",
     "output_type": "stream",
     "text": [
      "W = 150.0 J/Cycle\n",
      "Qc = 350.0 J/Cycle\n"
     ]
    }
   ],
   "source": [
    "e=0.3\n",
    "Qh=500\n",
    "\n",
    "#this is equation for heat engines and it relates efficiency work and heat together\n",
    "\n",
    "#e=W/Qh\n",
    "\n",
    "W=e*Qh\n",
    "print('W =',W,'J/Cycle')\n",
    "\n",
    "#W=Qh-Qc\n",
    "Qc=Qh-W\n",
    "print('Qc =',Qc,'J/Cycle')"
   ]
  },
  {
   "cell_type": "markdown",
   "id": "3611c665",
   "metadata": {},
   "source": [
    "## Q4"
   ]
  },
  {
   "cell_type": "markdown",
   "id": "70e786fd",
   "metadata": {},
   "source": [
    "p1=p4\n",
    "p2=p3\n",
    "\n"
   ]
  },
  {
   "cell_type": "markdown",
   "id": "3b3b8dcc",
   "metadata": {},
   "source": [
    "## Q5"
   ]
  },
  {
   "cell_type": "code",
   "execution_count": 13,
   "id": "6819f813",
   "metadata": {},
   "outputs": [
    {
     "name": "stdout",
     "output_type": "stream",
     "text": [
      "2.6967194004995835e+27\n"
     ]
    }
   ],
   "source": [
    "M_H2O=18.015 #g/mol, molar mass of H2O\n",
    "M=80.7 #kg, mass of average american from google\n",
    "\n",
    "#kg*(mol/(g/1000))*part/mol=particles\n",
    "\n",
    "nH2O=(M*NA)/(M_H2O/1000)\n",
    "print(nH2O)\n",
    "\n"
   ]
  },
  {
   "cell_type": "code",
   "execution_count": 20,
   "id": "c42e0d30",
   "metadata": {},
   "outputs": [
    {
     "name": "stdout",
     "output_type": "stream",
     "text": [
      "Vdrop = 8.18123086872342e-09 m^3/drop\n",
      "V_ocean = 1.0030090270812438e+18 m^3\n",
      "ndrop = 1.225987926725934e+26 drops in the ocean\n"
     ]
    }
   ],
   "source": [
    "M_ocean=10**21\n",
    "Ddrop=2.5 #in mm, generalization from range 0.5mm to 4mm found on google\n",
    "\n",
    "#so i can avoid doing a differential equation im going to assume the water drop is perfectly spherical. this isn't true in nature.\n",
    "\n",
    "rdrop=(Ddrop/(2*1000))\n",
    "\n",
    "Vdrop=(rdrop**3)*np.pi*(4/3)\n",
    "\n",
    "print('Vdrop =', Vdrop,'m^3/drop')\n",
    "\n",
    "ro_H2O=997 #kg/m^3, from google\n",
    "\n",
    "#ro=M/V\n",
    "V_ocean=M_ocean/ro_H2O\n",
    "print('V_ocean =',V_ocean,'m^3')\n",
    "\n",
    "ndrop=V_ocean/Vdrop\n",
    "print('ndrop =',ndrop,'drops in the ocean')"
   ]
  },
  {
   "cell_type": "markdown",
   "id": "232d9889",
   "metadata": {},
   "source": [
    "a is larger"
   ]
  },
  {
   "cell_type": "markdown",
   "id": "c5dd14e1",
   "metadata": {},
   "source": [
    "## Q6"
   ]
  },
  {
   "cell_type": "code",
   "execution_count": 21,
   "id": "8b5ac8c8",
   "metadata": {},
   "outputs": [
    {
     "name": "stdout",
     "output_type": "stream",
     "text": [
      "2.0\n"
     ]
    }
   ],
   "source": [
    "n=2\n",
    "r=1\n",
    "\n",
    "# n!/r!(n-r)!\n",
    "\n",
    "permutation=(2*(1))/((1)*(2-1))\n",
    "print(permutation)"
   ]
  },
  {
   "cell_type": "code",
   "execution_count": 24,
   "id": "7b9dfa7d",
   "metadata": {},
   "outputs": [
    {
     "name": "stdout",
     "output_type": "stream",
     "text": [
      "2.0\n"
     ]
    }
   ],
   "source": [
    "f=math.factorial(n)/(math.factorial(r)*math.factorial(n-r))\n",
    "print(f)"
   ]
  },
  {
   "cell_type": "code",
   "execution_count": 26,
   "id": "80944ec2",
   "metadata": {},
   "outputs": [
    {
     "name": "stdout",
     "output_type": "stream",
     "text": [
      "184756.0\n"
     ]
    }
   ],
   "source": [
    "n2=20\n",
    "r2=10\n",
    "\n",
    "f2=math.factorial(n2)/(math.factorial(r2)*math.factorial(n2-r2))\n",
    "print(f2)"
   ]
  },
  {
   "cell_type": "code",
   "execution_count": 31,
   "id": "9c02a2a2",
   "metadata": {},
   "outputs": [
    {
     "ename": "OverflowError",
     "evalue": "factorial() argument should not exceed 2147483647",
     "output_type": "error",
     "traceback": [
      "\u001b[1;31m---------------------------------------------------------------------------\u001b[0m",
      "\u001b[1;31mOverflowError\u001b[0m                             Traceback (most recent call last)",
      "\u001b[1;32m<ipython-input-31-300919133850>\u001b[0m in \u001b[0;36m<module>\u001b[1;34m\u001b[0m\n\u001b[0;32m      3\u001b[0m \u001b[1;33m\u001b[0m\u001b[0m\n\u001b[0;32m      4\u001b[0m \u001b[1;33m\u001b[0m\u001b[0m\n\u001b[1;32m----> 5\u001b[1;33m \u001b[0mf3\u001b[0m\u001b[1;33m=\u001b[0m\u001b[0mmath\u001b[0m\u001b[1;33m.\u001b[0m\u001b[0mfactorial\u001b[0m\u001b[1;33m(\u001b[0m\u001b[0mr3\u001b[0m\u001b[1;33m)\u001b[0m\u001b[1;33m/\u001b[0m\u001b[1;33m(\u001b[0m\u001b[0mmath\u001b[0m\u001b[1;33m.\u001b[0m\u001b[0mfactorial\u001b[0m\u001b[1;33m(\u001b[0m\u001b[1;36m1\u001b[0m\u001b[1;33m)\u001b[0m\u001b[1;33m*\u001b[0m\u001b[0mmath\u001b[0m\u001b[1;33m.\u001b[0m\u001b[0mfactorial\u001b[0m\u001b[1;33m(\u001b[0m\u001b[0mr3\u001b[0m\u001b[1;33m-\u001b[0m\u001b[1;36m1\u001b[0m\u001b[1;33m)\u001b[0m\u001b[1;33m)\u001b[0m\u001b[1;33m\u001b[0m\u001b[1;33m\u001b[0m\u001b[0m\n\u001b[0m\u001b[0;32m      6\u001b[0m \u001b[0mprint\u001b[0m\u001b[1;33m(\u001b[0m\u001b[0mf3\u001b[0m\u001b[1;33m)\u001b[0m\u001b[1;33m\u001b[0m\u001b[1;33m\u001b[0m\u001b[0m\n",
      "\u001b[1;31mOverflowError\u001b[0m: factorial() argument should not exceed 2147483647"
     ]
    }
   ],
   "source": [
    "n3=2e23\n",
    "r3=1e23\n",
    "\n",
    "f3=math.factorial(n3)/(math.factorial(r3)*math.factorial(n3-r3))\n",
    "print(f3)"
   ]
  },
  {
   "cell_type": "code",
   "execution_count": 29,
   "id": "f2f8108b",
   "metadata": {},
   "outputs": [
    {
     "name": "stdout",
     "output_type": "stream",
     "text": [
      "26.0\n"
     ]
    }
   ],
   "source": [
    "ntest=26\n",
    "rtest=25\n",
    "\n",
    "ftest=math.factorial(ntest)/(math.factorial(rtest)*math.factorial(ntest-rtest))\n",
    "print(ftest)"
   ]
  },
  {
   "cell_type": "code",
   "execution_count": 33,
   "id": "200fb96d",
   "metadata": {},
   "outputs": [
    {
     "name": "stdout",
     "output_type": "stream",
     "text": [
      "f3= 2e+23\n"
     ]
    }
   ],
   "source": [
    "n3=2e23\n",
    "r3=1e23\n",
    "\n",
    "#f3=math.factorial(n3)/(math.factorial(r3)*math.factorial(n3-r3))\n",
    "print('f3=',n3)\n",
    "\n",
    "# I think this is accurate based on the test i did in the cell above but im unsure and i cant run it because it'll overflow."
   ]
  },
  {
   "cell_type": "markdown",
   "id": "286f4dfc",
   "metadata": {},
   "source": [
    "## Q7"
   ]
  },
  {
   "cell_type": "code",
   "execution_count": 39,
   "id": "a7f2e1ae",
   "metadata": {},
   "outputs": [
    {
     "name": "stdout",
     "output_type": "stream",
     "text": [
      "4.09968e+20\n",
      "68328000000.0 Total barrels of oil\n",
      "rate = 2166.6666666666665 oil barrels per second\n"
     ]
    }
   ],
   "source": [
    "P_oil=13e12\n",
    "E_oil=42e9\n",
    "#7barrels =E_oil\n",
    "#P=E/t Im assuming this power consumption over 1yr\n",
    "t=1\n",
    "\n",
    "t_s=t*365*24*60*60\n",
    "E_tot=P_oil*(t_s)\n",
    "print(E_tot)\n",
    "\n",
    "Barrels=(E_tot*7)/E_oil\n",
    "print(Barrels,'Total barrels of oil')\n",
    "\n",
    "Rate=Barrels/t_s\n",
    "print('rate =',Rate,'oil barrels per second')"
   ]
  },
  {
   "cell_type": "markdown",
   "id": "124eb8cf",
   "metadata": {},
   "source": [
    "## Q8"
   ]
  },
  {
   "cell_type": "markdown",
   "id": "5430754f",
   "metadata": {},
   "source": [
    "dQ=CdT\n",
    "\n",
    "the heat transfer is the same between both objects so\n",
    "\n",
    "dQ1=dQ2\n",
    "\n",
    "Substitute:  C1dT1=C2dT2\n",
    "\n",
    "The final temp both object should be the same so dT can be made into the formula below\n",
    "            \n",
    "Solve for Tf: \n",
    "              \n",
    "              C1(Tf-T1)=C2(Tf-T2) --> C1Tf-C1T1=C2Tf-C2T2\n",
    "             \n",
    "              C1Tf-C2Tf=C1T1-C2T2--> Tf(C1-C2)=C1T1-C2T2\n",
    "             \n",
    "                             Tf=(C1T1-C2T2)/(C2-C1)\n",
    "               \n"
   ]
  },
  {
   "cell_type": "markdown",
   "id": "57b7f4b0",
   "metadata": {},
   "source": []
  },
  {
   "cell_type": "markdown",
   "id": "31cfc0d1",
   "metadata": {},
   "source": [
    "https://www.geeksforgeeks.org/factorial-in-python/"
   ]
  }
 ],
 "metadata": {
  "kernelspec": {
   "display_name": "Python 3",
   "language": "python",
   "name": "python3"
  },
  "language_info": {
   "codemirror_mode": {
    "name": "ipython",
    "version": 3
   },
   "file_extension": ".py",
   "mimetype": "text/x-python",
   "name": "python",
   "nbconvert_exporter": "python",
   "pygments_lexer": "ipython3",
   "version": "3.8.5"
  }
 },
 "nbformat": 4,
 "nbformat_minor": 5
}
